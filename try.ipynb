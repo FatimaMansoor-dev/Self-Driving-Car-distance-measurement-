{
 "cells": [
  {
   "cell_type": "code",
   "execution_count": 4,
   "metadata": {},
   "outputs": [
    {
     "name": "stdout",
     "output_type": "stream",
     "text": [
      "Collecting opencv-python\n",
      "  Downloading opencv_python-4.10.0.84-cp37-abi3-win_amd64.whl (38.8 MB)\n",
      "     -------------------------------------- 38.8/38.8 MB 199.4 kB/s eta 0:00:00\n",
      "Requirement already satisfied: numpy>=1.19.3 in c:\\users\\user\\appdata\\local\\programs\\python\\python310\\lib\\site-packages (from opencv-python) (1.26.4)\n",
      "Installing collected packages: opencv-python\n",
      "Successfully installed opencv-python-4.10.0.84\n",
      "Note: you may need to restart the kernel to use updated packages.\n"
     ]
    },
    {
     "name": "stderr",
     "output_type": "stream",
     "text": [
      "\n",
      "[notice] A new release of pip available: 22.2.2 -> 24.2\n",
      "[notice] To update, run: python.exe -m pip install --upgrade pip\n"
     ]
    }
   ],
   "source": [
    "%pip install opencv-python"
   ]
  },
  {
   "cell_type": "code",
   "execution_count": 2,
   "metadata": {},
   "outputs": [],
   "source": [
    "import sys\n",
    "import numpy as np \n",
    "import cv2\n",
    "import time\n",
    "from matplotlib import pyplot as plt\n",
    "# import imutils "
   ]
  },
  {
   "cell_type": "code",
   "execution_count": 3,
   "metadata": {},
   "outputs": [
    {
     "ename": "",
     "evalue": "",
     "output_type": "error",
     "traceback": [
      "\u001b[1;31mThe Kernel crashed while executing code in the current cell or a previous cell. \n",
      "\u001b[1;31mPlease review the code in the cell(s) to identify a possible cause of the failure. \n",
      "\u001b[1;31mClick <a href='https://aka.ms/vscodeJupyterKernelCrash'>here</a> for more info. \n",
      "\u001b[1;31mView Jupyter <a href='command:jupyter.viewOutput'>log</a> for further details."
     ]
    }
   ],
   "source": [
    "cap = cv2.VideoCapture(0)\n",
    "cap2 = cv2.VideoCapture('http://192.168.0.101:8080/video')\n",
    "\n",
    "while True:\n",
    "    # Capture frame-by-frame from both cameras\n",
    "    ret1, frame1 = cap.read()\n",
    "    ret, frame  = cap2.read()\n",
    "   \n",
    "    if ret1:\n",
    "        cv2.imshow('Network Camera', frame1)\n",
    "        cv2.imshow('yay', frame)\n",
    "\n",
    "    # Press 'q' to exit the video windows\n",
    "    if cv2.waitKey(1) & 0xFF == ord('q'):\n",
    "        break\n",
    "\n",
    "# Release video capture and destroy windows\n",
    "cap.release()"
   ]
  },
  {
   "cell_type": "code",
   "execution_count": 6,
   "metadata": {},
   "outputs": [
    {
     "ename": "KeyboardInterrupt",
     "evalue": "",
     "output_type": "error",
     "traceback": [
      "\u001b[1;31m---------------------------------------------------------------------------\u001b[0m",
      "\u001b[1;31mKeyboardInterrupt\u001b[0m                         Traceback (most recent call last)",
      "Cell \u001b[1;32mIn[6], line 23\u001b[0m\n\u001b[0;32m     20\u001b[0m \u001b[38;5;28;01mwhile\u001b[39;00m \u001b[38;5;28;01mTrue\u001b[39;00m:\n\u001b[0;32m     21\u001b[0m     \u001b[38;5;66;03m# Capture frame-by-frame from both cameras\u001b[39;00m\n\u001b[0;32m     22\u001b[0m     ret1, frame1 \u001b[38;5;241m=\u001b[39m cap1\u001b[38;5;241m.\u001b[39mread()\n\u001b[1;32m---> 23\u001b[0m     ret2, frame2 \u001b[38;5;241m=\u001b[39m \u001b[43mcap2\u001b[49m\u001b[38;5;241;43m.\u001b[39;49m\u001b[43mread\u001b[49m\u001b[43m(\u001b[49m\u001b[43m)\u001b[49m\n\u001b[0;32m     25\u001b[0m     \u001b[38;5;66;03m# Check if frames were successfully captured\u001b[39;00m\n\u001b[0;32m     26\u001b[0m     \u001b[38;5;66;03m# if not ret1:\u001b[39;00m\n\u001b[0;32m     27\u001b[0m     \u001b[38;5;66;03m#     print(\"Failed to grab frame from network camera\")\u001b[39;00m\n\u001b[1;32m   (...)\u001b[0m\n\u001b[0;32m     30\u001b[0m \n\u001b[0;32m     31\u001b[0m     \u001b[38;5;66;03m# Display the frames in different windows\u001b[39;00m\n\u001b[0;32m     32\u001b[0m     \u001b[38;5;28;01mif\u001b[39;00m ret1:\n",
      "\u001b[1;31mKeyboardInterrupt\u001b[0m: "
     ]
    }
   ],
   "source": [
    "import cv2\n",
    "\n",
    "# Initialize video capture for the network camera\n",
    "cap1 = cv2.VideoCapture('http://192.168.0.101:8080/video',cv2.CAP_DSHOW)\n",
    "\n",
    "# Initialize video capture for the local webcam (usually ID 0)\n",
    "cap2 = cv2.VideoCapture(0)\n",
    "\n",
    "\n",
    "# Reduce resolution and set FPS for the network camera\n",
    "cap1.set(cv2.CAP_PROP_FRAME_WIDTH, 60)\n",
    "cap1.set(cv2.CAP_PROP_FRAME_HEIGHT, 40)\n",
    "cap1.set(cv2.CAP_PROP_FPS, 15)\n",
    "\n",
    "# Optionally, set resolution for the local webcam\n",
    "cap2.set(cv2.CAP_PROP_FRAME_WIDTH, 60)\n",
    "cap2.set(cv2.CAP_PROP_FRAME_HEIGHT, 40)\n",
    "cap2.set(cv2.CAP_PROP_FPS, 15)\n",
    "\n",
    "while True:\n",
    "    # Capture frame-by-frame from both cameras\n",
    "    ret1, frame1 = cap1.read()\n",
    "    ret2, frame2 = cap2.read()\n",
    "\n",
    "    # Check if frames were successfully captured\n",
    "    # if not ret1:\n",
    "    #     print(\"Failed to grab frame from network camera\")\n",
    "    # if not ret2:\n",
    "    #     print(\"Failed to grab frame from local webcam\")\n",
    "\n",
    "    # Display the frames in different windows\n",
    "    if ret1:\n",
    "        cv2.imshow('Network Camera', frame1)\n",
    "    if ret2:\n",
    "        cv2.imshow('Local Webcam', frame2)\n",
    "\n",
    "    # Press 'q' to exit the video windows\n",
    "    if cv2.waitKey(1) & 0xFF == ord('q'):\n",
    "        break\n",
    "\n",
    "# Release video capture and destroy windows\n",
    "cap1.release()\n",
    "cap2.release()\n",
    "cv2.destroyAllWindows()\n"
   ]
  },
  {
   "cell_type": "code",
   "execution_count": 1,
   "metadata": {},
   "outputs": [
    {
     "ename": "ModuleNotFoundError",
     "evalue": "No module named 'imutils'",
     "output_type": "error",
     "traceback": [
      "\u001b[1;31m---------------------------------------------------------------------------\u001b[0m",
      "\u001b[1;31mModuleNotFoundError\u001b[0m                       Traceback (most recent call last)",
      "Cell \u001b[1;32mIn[1], line 2\u001b[0m\n\u001b[0;32m      1\u001b[0m \u001b[38;5;28;01mimport\u001b[39;00m \u001b[38;5;21;01mHSV_filter\u001b[39;00m \u001b[38;5;28;01mas\u001b[39;00m \u001b[38;5;21;01mhsv\u001b[39;00m \n\u001b[1;32m----> 2\u001b[0m \u001b[38;5;28;01mimport\u001b[39;00m \u001b[38;5;21;01mshape_recognition\u001b[39;00m \u001b[38;5;28;01mas\u001b[39;00m \u001b[38;5;21;01mshape\u001b[39;00m \n\u001b[0;32m      3\u001b[0m \u001b[38;5;28;01mimport\u001b[39;00m \u001b[38;5;21;01mtriangulation\u001b[39;00m \u001b[38;5;28;01mas\u001b[39;00m \u001b[38;5;21;01mtri\u001b[39;00m \n\u001b[0;32m      5\u001b[0m cap_right \u001b[38;5;241m=\u001b[39m cv2\u001b[38;5;241m.\u001b[39mVideoCapture(\u001b[38;5;241m0\u001b[39m)\n",
      "File \u001b[1;32mc:\\Users\\USER\\Desktop\\self\\day3\\shape_recognition.py:5\u001b[0m\n\u001b[0;32m      3\u001b[0m \u001b[38;5;28;01mimport\u001b[39;00m \u001b[38;5;21;01mtime\u001b[39;00m\n\u001b[0;32m      4\u001b[0m \u001b[38;5;28;01mimport\u001b[39;00m \u001b[38;5;21;01mnumpy\u001b[39;00m \u001b[38;5;28;01mas\u001b[39;00m \u001b[38;5;21;01mnp\u001b[39;00m\n\u001b[1;32m----> 5\u001b[0m \u001b[38;5;28;01mimport\u001b[39;00m \u001b[38;5;21;01mimutils\u001b[39;00m\n\u001b[0;32m      7\u001b[0m \u001b[38;5;28;01mdef\u001b[39;00m \u001b[38;5;21mfind_circles\u001b[39m(frame, mask):\n\u001b[0;32m      8\u001b[0m     contours \u001b[38;5;241m=\u001b[39m cv2\u001b[38;5;241m.\u001b[39mfindContours(mask\u001b[38;5;241m.\u001b[39mcopy(), cv2\u001b[38;5;241m.\u001b[39mRETR_EXTERNAL, cv2\u001b[38;5;241m.\u001b[39mCHAIN_APPROX_SIMPLE)\n",
      "\u001b[1;31mModuleNotFoundError\u001b[0m: No module named 'imutils'"
     ]
    }
   ],
   "source": [
    "import HSV_filter as hsv \n",
    "import shape_recognition as shape \n",
    "import triangulation as tri \n",
    "\n",
    "cap_right = cv2.VideoCapture(0)\n",
    "cap_left = cv2.VideoCapture(1,cv2.CAP_DSHOW)\n",
    "\n",
    "frame_rate = 120 \n",
    "\n",
    "B=9\n",
    "f=6 \n",
    "alpha=56.6\n",
    "\n",
    "count = -1\n",
    "\n",
    "while (True):\n",
    "    count+=1\n",
    "\n",
    "    ret_right, frame_right = cap_right.read()\n",
    "    ret_left, frame_left = cap_left.read()\n",
    "\n",
    "\n",
    "    if ret_right == False or ret_left == False:\n",
    "        break\n",
    "    else:\n",
    "        mask_right = hsv.add_HSV_filter(frame_right,1)\n",
    "        mask_left = hsv.add_HSV_filter(frame_left,0)\n",
    "\n",
    "        res_rigt = cv2.bitwise_and(frame_right, frame_right, mask = mask_right)\n",
    "        res_rigt = cv2.bitwise_and(frame_left, frame_left, mask = mask_left)\n",
    "\n",
    "        circles_right = shape.find_circles(frame_right, mask_right)\n",
    "        circles_left = shape.find_circles(frame_left, mask_left)\n"
   ]
  },
  {
   "cell_type": "code",
   "execution_count": null,
   "metadata": {},
   "outputs": [],
   "source": []
  }
 ],
 "metadata": {
  "kernelspec": {
   "display_name": "Python 3",
   "language": "python",
   "name": "python3"
  },
  "language_info": {
   "codemirror_mode": {
    "name": "ipython",
    "version": 3
   },
   "file_extension": ".py",
   "mimetype": "text/x-python",
   "name": "python",
   "nbconvert_exporter": "python",
   "pygments_lexer": "ipython3",
   "version": "3.10.8"
  }
 },
 "nbformat": 4,
 "nbformat_minor": 2
}
